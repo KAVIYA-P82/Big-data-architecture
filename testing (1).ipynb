{
 "cells": [
  {
   "cell_type": "code",
   "execution_count": 0,
   "metadata": {
    "application/vnd.databricks.v1+cell": {
     "cellMetadata": {
      "byteLimit": 2048000,
      "rowLimit": 10000
     },
     "inputWidgets": {},
     "nuid": "91d1c39c-2645-4b55-ac48-d3487df1fb5a",
     "showTitle": false,
     "tableResultSettingsMap": {},
     "title": ""
    }
   },
   "outputs": [],
   "source": [
    "from pyspark.sql import SparkSession\n",
    "from pyspark.ml.feature import VectorAssembler, StringIndexer\n",
    "from pyspark.ml.classification import RandomForestClassifier\n",
    "from pyspark.ml.evaluation import MulticlassClassificationEvaluator\n",
    "from pyspark.ml import Pipeline\n",
    "from pyspark.sql.functions import col"
   ]
  },
  {
   "cell_type": "code",
   "execution_count": 0,
   "metadata": {
    "application/vnd.databricks.v1+cell": {
     "cellMetadata": {
      "byteLimit": 2048000,
      "rowLimit": 10000
     },
     "inputWidgets": {},
     "nuid": "2bd1c2d2-6553-49bf-a318-5afe817dd3f9",
     "showTitle": false,
     "tableResultSettingsMap": {},
     "title": ""
    }
   },
   "outputs": [],
   "source": [
    "spark = SparkSession.builder.appName(\"IoT_Traffic_Model_Testing\").getOrCreate()\n",
    "df = spark.table(\"iot_edge_computing_public_management_cleaned\")"
   ]
  },
  {
   "cell_type": "code",
   "execution_count": 0,
   "metadata": {
    "application/vnd.databricks.v1+cell": {
     "cellMetadata": {
      "byteLimit": 2048000,
      "rowLimit": 10000
     },
     "inputWidgets": {},
     "nuid": "84cdcbe1-6532-4c0f-a965-ca9c4b06b608",
     "showTitle": false,
     "tableResultSettingsMap": {},
     "title": ""
    }
   },
   "outputs": [],
   "source": [
    "feature_cols = [\n",
    "    \"vehicle_speed_kmph\", \n",
    "    \"latitude\", \n",
    "    \"longitude\", \n",
    "    \"hour_of_day\", \n",
    "    \"day_of_week\"\n",
    "]\n",
    "\n",
    "label_col = \"accident_hotspot\""
   ]
  },
  {
   "cell_type": "code",
   "execution_count": 0,
   "metadata": {
    "application/vnd.databricks.v1+cell": {
     "cellMetadata": {
      "byteLimit": 2048000,
      "rowLimit": 10000
     },
     "inputWidgets": {},
     "nuid": "81835702-ae0f-44a2-8b6f-7cf99d9e2fb5",
     "showTitle": false,
     "tableResultSettingsMap": {},
     "title": ""
    }
   },
   "outputs": [],
   "source": [
    "label_indexer = StringIndexer(inputCol=label_col, outputCol=\"label\")\n",
    "\n",
    "assembler = VectorAssembler(inputCols=feature_cols, outputCol=\"features\")"
   ]
  },
  {
   "cell_type": "code",
   "execution_count": 0,
   "metadata": {
    "application/vnd.databricks.v1+cell": {
     "cellMetadata": {
      "byteLimit": 2048000,
      "rowLimit": 10000
     },
     "inputWidgets": {},
     "nuid": "41605ae5-6c95-4e0d-9820-a1c55156856b",
     "showTitle": false,
     "tableResultSettingsMap": {},
     "title": ""
    }
   },
   "outputs": [],
   "source": [
    "train_df, test_df = df.randomSplit([0.8, 0.2], seed=42)"
   ]
  },
  {
   "cell_type": "code",
   "execution_count": 0,
   "metadata": {
    "application/vnd.databricks.v1+cell": {
     "cellMetadata": {
      "byteLimit": 2048000,
      "rowLimit": 10000
     },
     "inputWidgets": {},
     "nuid": "5ccc7554-7ed2-42a9-9f81-ec94f6b43dc0",
     "showTitle": false,
     "tableResultSettingsMap": {},
     "title": ""
    }
   },
   "outputs": [],
   "source": [
    "rf = RandomForestClassifier(\n",
    "    labelCol=\"label\",\n",
    "    featuresCol=\"features\",\n",
    "    numTrees=50,\n",
    "    maxDepth=8,\n",
    "    seed=42\n",
    ")"
   ]
  },
  {
   "cell_type": "code",
   "execution_count": 0,
   "metadata": {
    "application/vnd.databricks.v1+cell": {
     "cellMetadata": {
      "byteLimit": 2048000,
      "rowLimit": 10000
     },
     "inputWidgets": {},
     "nuid": "3b84dba6-62d4-479c-ae68-d52df6492870",
     "showTitle": false,
     "tableResultSettingsMap": {},
     "title": ""
    }
   },
   "outputs": [],
   "source": [
    "pipeline = Pipeline(stages=[label_indexer, assembler, rf])\n",
    "\n",
    "model = pipeline.fit(train_df)\n"
   ]
  },
  {
   "cell_type": "code",
   "execution_count": 0,
   "metadata": {
    "application/vnd.databricks.v1+cell": {
     "cellMetadata": {
      "byteLimit": 2048000,
      "rowLimit": 10000
     },
     "inputWidgets": {},
     "nuid": "3e52a47c-bd67-416f-8b6e-2f313bc2c01f",
     "showTitle": false,
     "tableResultSettingsMap": {},
     "title": ""
    }
   },
   "outputs": [
    {
     "output_type": "display_data",
     "data": {
      "text/html": [
       "<style scoped>\n",
       "  .table-result-container {\n",
       "    max-height: 300px;\n",
       "    overflow: auto;\n",
       "  }\n",
       "  table, th, td {\n",
       "    border: 1px solid black;\n",
       "    border-collapse: collapse;\n",
       "  }\n",
       "  th, td {\n",
       "    padding: 5px;\n",
       "  }\n",
       "  th {\n",
       "    text-align: left;\n",
       "  }\n",
       "</style><div class='table-result-container'><table class='table-result'><thead style='background-color: white'><tr><th>sensor_id</th><th>vehicle_speed_kmph</th><th>latitude</th><th>longitude</th><th>prediction</th><th>label</th></tr></thead><tbody><tr><td>Vehicle_9</td><td>34</td><td>38.23071478990284</td><td>-73.82381311916097</td><td>0.0</td><td>0.0</td></tr><tr><td>Vehicle_2</td><td>66</td><td>36.26349187270031</td><td>-77.03314129864162</td><td>0.0</td><td>0.0</td></tr><tr><td>Vehicle_4</td><td>100</td><td>38.55062888574194</td><td>-118.37285438026655</td><td>0.0</td><td>0.0</td></tr><tr><td>Vehicle_2</td><td>38</td><td>39.10920356232421</td><td>-79.91782381292626</td><td>0.0</td><td>0.0</td></tr><tr><td>Vehicle_4</td><td>103</td><td>37.44630600905868</td><td>-95.60845402669736</td><td>0.0</td><td>0.0</td></tr><tr><td>Vehicle_5</td><td>79</td><td>39.180912489532474</td><td>-91.42794442727731</td><td>0.0</td><td>0.0</td></tr><tr><td>Vehicle_6</td><td>60</td><td>39.39085482236847</td><td>-77.37719618182187</td><td>0.0</td><td>1.0</td></tr><tr><td>Vehicle_8</td><td>24</td><td>39.5665924532276</td><td>-93.17240022552485</td><td>0.0</td><td>0.0</td></tr><tr><td>Vehicle_1</td><td>64</td><td>36.82673946815028</td><td>-104.44921741855654</td><td>0.0</td><td>1.0</td></tr><tr><td>Vehicle_5</td><td>59</td><td>34.852504826472114</td><td>-103.96538290741704</td><td>0.0</td><td>0.0</td></tr><tr><td>Vehicle_1</td><td>80</td><td>38.513346363560544</td><td>-109.61422041382191</td><td>0.0</td><td>1.0</td></tr><tr><td>Vehicle_7</td><td>76</td><td>38.25760363697239</td><td>-88.83969088463496</td><td>0.0</td><td>0.0</td></tr><tr><td>Vehicle_8</td><td>103</td><td>36.845789447575996</td><td>-114.81265908823863</td><td>0.0</td><td>0.0</td></tr><tr><td>Vehicle_1</td><td>20</td><td>35.37789595277428</td><td>-84.09740194419263</td><td>0.0</td><td>0.0</td></tr><tr><td>Vehicle_5</td><td>109</td><td>38.22736737720021</td><td>-100.1723012159385</td><td>0.0</td><td>0.0</td></tr><tr><td>Vehicle_3</td><td>44</td><td>34.636056717195856</td><td>-115.81500686113172</td><td>0.0</td><td>0.0</td></tr><tr><td>Vehicle_8</td><td>61</td><td>37.46116839762155</td><td>-107.45219218233811</td><td>0.0</td><td>1.0</td></tr><tr><td>Vehicle_4</td><td>28</td><td>38.577523390186485</td><td>-100.47322384341486</td><td>0.0</td><td>1.0</td></tr><tr><td>Vehicle_2</td><td>61</td><td>37.25712388830372</td><td>-89.2205274489441</td><td>0.0</td><td>1.0</td></tr><tr><td>Vehicle_3</td><td>101</td><td>39.69307273088001</td><td>-110.33856468344104</td><td>0.0</td><td>0.0</td></tr><tr><td>Vehicle_6</td><td>93</td><td>34.50679253273747</td><td>-96.71328067499081</td><td>0.0</td><td>0.0</td></tr><tr><td>Vehicle_8</td><td>77</td><td>38.72439130590289</td><td>-108.39876764940722</td><td>0.0</td><td>0.0</td></tr><tr><td>Vehicle_4</td><td>35</td><td>39.49124127092884</td><td>-75.18228041171773</td><td>0.0</td><td>0.0</td></tr><tr><td>Vehicle_1</td><td>97</td><td>36.88073806330911</td><td>-89.74872981239115</td><td>0.0</td><td>0.0</td></tr><tr><td>Vehicle_10</td><td>22</td><td>39.25596040788408</td><td>-99.82309685429043</td><td>0.0</td><td>0.0</td></tr><tr><td>Vehicle_6</td><td>102</td><td>35.33857820276832</td><td>-93.14854603475098</td><td>0.0</td><td>0.0</td></tr><tr><td>Vehicle_2</td><td>22</td><td>39.77492206884648</td><td>-75.58791966952009</td><td>0.0</td><td>0.0</td></tr><tr><td>Vehicle_4</td><td>39</td><td>35.36140160889777</td><td>-88.75664188685258</td><td>0.0</td><td>0.0</td></tr><tr><td>Vehicle_6</td><td>84</td><td>36.65603526581523</td><td>-85.59794043628185</td><td>0.0</td><td>0.0</td></tr><tr><td>Vehicle_7</td><td>46</td><td>39.691521766047046</td><td>-89.98575636827462</td><td>0.0</td><td>0.0</td></tr><tr><td>Vehicle_5</td><td>25</td><td>36.431316865349864</td><td>-94.09212032813241</td><td>0.0</td><td>0.0</td></tr><tr><td>Vehicle_7</td><td>83</td><td>36.517211716853815</td><td>-107.60661113792459</td><td>0.0</td><td>0.0</td></tr><tr><td>Vehicle_1</td><td>65</td><td>39.350576270563074</td><td>-105.83530735391702</td><td>0.0</td><td>1.0</td></tr><tr><td>Vehicle_1</td><td>27</td><td>38.239659689455735</td><td>-108.13610346776073</td><td>0.0</td><td>0.0</td></tr><tr><td>Vehicle_2</td><td>50</td><td>34.3733033974959</td><td>-74.22754768670188</td><td>0.0</td><td>0.0</td></tr><tr><td>Vehicle_1</td><td>77</td><td>36.28981477082083</td><td>-116.47835668677065</td><td>0.0</td><td>0.0</td></tr><tr><td>Vehicle_8</td><td>55</td><td>39.926180587374304</td><td>-90.92223475651325</td><td>0.0</td><td>0.0</td></tr><tr><td>Vehicle_3</td><td>42</td><td>37.70441895650278</td><td>-95.13774212709473</td><td>0.0</td><td>1.0</td></tr><tr><td>Vehicle_9</td><td>75</td><td>39.595540468150006</td><td>-88.5944828930269</td><td>0.0</td><td>0.0</td></tr><tr><td>Vehicle_3</td><td>49</td><td>39.018911147611675</td><td>-109.38150440623609</td><td>0.0</td><td>1.0</td></tr><tr><td>Vehicle_6</td><td>112</td><td>34.80618633649848</td><td>-111.3716348297312</td><td>0.0</td><td>0.0</td></tr><tr><td>Vehicle_8</td><td>82</td><td>35.26039093053701</td><td>-97.97199163857086</td><td>0.0</td><td>0.0</td></tr><tr><td>Vehicle_3</td><td>118</td><td>35.58690363676025</td><td>-105.44130650827402</td><td>0.0</td><td>0.0</td></tr><tr><td>Vehicle_4</td><td>92</td><td>37.0090992104109</td><td>-93.63643670614806</td><td>0.0</td><td>0.0</td></tr><tr><td>Vehicle_7</td><td>24</td><td>39.16916457654317</td><td>-91.56478583943115</td><td>0.0</td><td>0.0</td></tr><tr><td>Vehicle_2</td><td>24</td><td>39.745106945757925</td><td>-81.073812159863</td><td>0.0</td><td>0.0</td></tr><tr><td>Vehicle_3</td><td>97</td><td>39.623800576973785</td><td>-113.23011089382742</td><td>0.0</td><td>0.0</td></tr><tr><td>Vehicle_5</td><td>47</td><td>35.269288252511956</td><td>-95.17880377056412</td><td>0.0</td><td>0.0</td></tr><tr><td>Vehicle_7</td><td>22</td><td>35.5786107001638</td><td>-101.77902412600889</td><td>0.0</td><td>1.0</td></tr><tr><td>Vehicle_2</td><td>42</td><td>34.27533163394802</td><td>-84.02182906224076</td><td>0.0</td><td>0.0</td></tr><tr><td>Vehicle_6</td><td>76</td><td>38.242908364258525</td><td>-91.39683068840982</td><td>0.0</td><td>0.0</td></tr><tr><td>Vehicle_1</td><td>80</td><td>39.09414940381797</td><td>-107.98874998093935</td><td>0.0</td><td>1.0</td></tr><tr><td>Vehicle_2</td><td>44</td><td>37.56117455867155</td><td>-83.1473240910214</td><td>0.0</td><td>0.0</td></tr><tr><td>Vehicle_2</td><td>77</td><td>34.2567975806109</td><td>-108.33457608600979</td><td>0.0</td><td>1.0</td></tr><tr><td>Vehicle_6</td><td>119</td><td>38.378150596289174</td><td>-77.19829856789963</td><td>0.0</td><td>0.0</td></tr><tr><td>Vehicle_7</td><td>97</td><td>34.80789204998186</td><td>-83.16319053334188</td><td>0.0</td><td>0.0</td></tr><tr><td>Vehicle_5</td><td>43</td><td>35.65326929968153</td><td>-102.75311652122994</td><td>0.0</td><td>1.0</td></tr><tr><td>Vehicle_8</td><td>118</td><td>37.60834797596735</td><td>-94.51644305673273</td><td>0.0</td><td>0.0</td></tr><tr><td>Vehicle_10</td><td>58</td><td>37.53045579725564</td><td>-101.4564465593003</td><td>0.0</td><td>0.0</td></tr><tr><td>Vehicle_3</td><td>61</td><td>39.27126949176534</td><td>-84.05412475998708</td><td>0.0</td><td>1.0</td></tr><tr><td>Vehicle_10</td><td>93</td><td>36.811236857843795</td><td>-86.91400218838822</td><td>0.0</td><td>0.0</td></tr><tr><td>Vehicle_2</td><td>113</td><td>39.94915918845027</td><td>-107.5215606206326</td><td>0.0</td><td>0.0</td></tr><tr><td>Vehicle_3</td><td>39</td><td>39.736785264381</td><td>-89.75236859448619</td><td>0.0</td><td>0.0</td></tr><tr><td>Vehicle_9</td><td>94</td><td>37.632685389725566</td><td>-80.04096122015235</td><td>0.0</td><td>0.0</td></tr><tr><td>Vehicle_1</td><td>98</td><td>39.75631393955597</td><td>-74.4885639318299</td><td>0.0</td><td>0.0</td></tr><tr><td>Vehicle_8</td><td>110</td><td>39.77931186818753</td><td>-77.31969678884197</td><td>0.0</td><td>1.0</td></tr><tr><td>Vehicle_9</td><td>120</td><td>35.63835805590944</td><td>-115.16214332363707</td><td>0.0</td><td>0.0</td></tr><tr><td>Vehicle_6</td><td>82</td><td>36.15806712040095</td><td>-104.03021723506329</td><td>0.0</td><td>0.0</td></tr><tr><td>Vehicle_1</td><td>56</td><td>36.63438142423668</td><td>-80.13352474676473</td><td>0.0</td><td>0.0</td></tr><tr><td>Vehicle_6</td><td>33</td><td>38.689072835516306</td><td>-73.8345005873818</td><td>0.0</td><td>0.0</td></tr><tr><td>Vehicle_1</td><td>28</td><td>34.25672144599018</td><td>-90.30911351385289</td><td>0.0</td><td>0.0</td></tr><tr><td>Vehicle_6</td><td>30</td><td>36.943001782767425</td><td>-82.29172791292241</td><td>0.0</td><td>1.0</td></tr><tr><td>Vehicle_2</td><td>85</td><td>36.410669249892976</td><td>-85.12519853483715</td><td>0.0</td><td>0.0</td></tr><tr><td>Vehicle_6</td><td>23</td><td>38.8321967593675</td><td>-74.33455123476756</td><td>0.0</td><td>1.0</td></tr><tr><td>Vehicle_9</td><td>54</td><td>38.86320534909243</td><td>-110.22983400685007</td><td>0.0</td><td>0.0</td></tr><tr><td>Vehicle_10</td><td>97</td><td>36.807278335730054</td><td>-104.43940840834709</td><td>0.0</td><td>0.0</td></tr><tr><td>Vehicle_3</td><td>34</td><td>34.41755462987858</td><td>-118.26783406625684</td><td>0.0</td><td>0.0</td></tr><tr><td>Vehicle_5</td><td>61</td><td>39.44247104427478</td><td>-85.30724560818436</td><td>0.0</td><td>0.0</td></tr><tr><td>Vehicle_9</td><td>120</td><td>39.864189985858616</td><td>-97.29942243271998</td><td>0.0</td><td>0.0</td></tr><tr><td>Vehicle_1</td><td>65</td><td>34.931114235851865</td><td>-73.92893131786884</td><td>0.0</td><td>0.0</td></tr><tr><td>Vehicle_8</td><td>46</td><td>37.74402552756361</td><td>-110.82384759998219</td><td>0.0</td><td>0.0</td></tr><tr><td>Vehicle_9</td><td>92</td><td>36.342215055972005</td><td>-115.75955368303053</td><td>0.0</td><td>1.0</td></tr><tr><td>Vehicle_10</td><td>97</td><td>38.54336464854351</td><td>-104.53786241371753</td><td>0.0</td><td>0.0</td></tr><tr><td>Vehicle_8</td><td>42</td><td>35.80704931229163</td><td>-79.72141521728474</td><td>0.0</td><td>0.0</td></tr><tr><td>Vehicle_1</td><td>67</td><td>37.04398248142845</td><td>-82.60771978165617</td><td>0.0</td><td>0.0</td></tr><tr><td>Vehicle_9</td><td>92</td><td>35.093564793825365</td><td>-95.24663297542754</td><td>0.0</td><td>0.0</td></tr><tr><td>Vehicle_4</td><td>119</td><td>35.309681461474895</td><td>-87.66614072470014</td><td>0.0</td><td>0.0</td></tr><tr><td>Vehicle_3</td><td>48</td><td>37.145618033744405</td><td>-117.25918581169421</td><td>0.0</td><td>0.0</td></tr><tr><td>Vehicle_4</td><td>63</td><td>34.35916076266741</td><td>-117.14223240871696</td><td>0.0</td><td>1.0</td></tr><tr><td>Vehicle_10</td><td>57</td><td>35.86863822387693</td><td>-114.96913894542381</td><td>0.0</td><td>0.0</td></tr><tr><td>Vehicle_3</td><td>105</td><td>36.13994509456899</td><td>-111.0279290974334</td><td>0.0</td><td>1.0</td></tr><tr><td>Vehicle_5</td><td>77</td><td>37.89373837187769</td><td>-93.59909266951031</td><td>0.0</td><td>0.0</td></tr><tr><td>Vehicle_4</td><td>72</td><td>35.92466925198509</td><td>-92.38980588038385</td><td>0.0</td><td>0.0</td></tr><tr><td>Vehicle_4</td><td>61</td><td>37.48435374214721</td><td>-87.62621872279715</td><td>0.0</td><td>0.0</td></tr><tr><td>Vehicle_8</td><td>58</td><td>34.75023943325875</td><td>-111.74657410877973</td><td>0.0</td><td>1.0</td></tr><tr><td>Vehicle_3</td><td>51</td><td>34.09931680949954</td><td>-101.29532385894794</td><td>0.0</td><td>0.0</td></tr><tr><td>Vehicle_1</td><td>97</td><td>39.17238987302201</td><td>-95.37090682763335</td><td>0.0</td><td>0.0</td></tr><tr><td>Vehicle_2</td><td>50</td><td>35.241006306294445</td><td>-86.859597736035</td><td>0.0</td><td>0.0</td></tr><tr><td>Vehicle_7</td><td>86</td><td>34.959305337961915</td><td>-105.21356467931145</td><td>0.0</td><td>0.0</td></tr><tr><td>Vehicle_4</td><td>88</td><td>34.063884376517144</td><td>-98.40935358175064</td><td>0.0</td><td>1.0</td></tr><tr><td>Vehicle_2</td><td>93</td><td>37.377183572662375</td><td>-101.15703549973203</td><td>0.0</td><td>1.0</td></tr><tr><td>Vehicle_3</td><td>88</td><td>35.34102165150959</td><td>-88.17151105483667</td><td>0.0</td><td>1.0</td></tr><tr><td>Vehicle_4</td><td>106</td><td>38.023211935477825</td><td>-94.84673482057532</td><td>0.0</td><td>0.0</td></tr><tr><td>Vehicle_5</td><td>106</td><td>38.63077714211999</td><td>-97.89375124843752</td><td>0.0</td><td>0.0</td></tr><tr><td>Vehicle_3</td><td>120</td><td>39.14262039236851</td><td>-80.74023368397488</td><td>0.0</td><td>0.0</td></tr><tr><td>Vehicle_4</td><td>42</td><td>37.17293037072726</td><td>-85.07768755815835</td><td>0.0</td><td>0.0</td></tr><tr><td>Vehicle_4</td><td>57</td><td>38.56055383587246</td><td>-84.56768161213495</td><td>0.0</td><td>1.0</td></tr><tr><td>Vehicle_5</td><td>94</td><td>39.20708681710087</td><td>-99.24362816771387</td><td>0.0</td><td>0.0</td></tr><tr><td>Vehicle_6</td><td>29</td><td>36.85502787711248</td><td>-94.27774726170932</td><td>0.0</td><td>0.0</td></tr><tr><td>Vehicle_8</td><td>48</td><td>39.52676151779358</td><td>-106.47952594522931</td><td>0.0</td><td>0.0</td></tr><tr><td>Vehicle_4</td><td>101</td><td>35.86549801903871</td><td>-111.37401292618951</td><td>0.0</td><td>0.0</td></tr><tr><td>Vehicle_10</td><td>50</td><td>38.86490296745109</td><td>-92.04512796420684</td><td>0.0</td><td>0.0</td></tr><tr><td>Vehicle_2</td><td>78</td><td>35.97676044355559</td><td>-103.73112590560288</td><td>0.0</td><td>0.0</td></tr><tr><td>Vehicle_4</td><td>41</td><td>39.07700648745004</td><td>-92.20299497083111</td><td>0.0</td><td>0.0</td></tr><tr><td>Vehicle_5</td><td>29</td><td>37.117962151623196</td><td>-84.11344733846167</td><td>0.0</td><td>0.0</td></tr><tr><td>Vehicle_8</td><td>66</td><td>36.37711952426386</td><td>-81.8989720581626</td><td>0.0</td><td>0.0</td></tr><tr><td>Vehicle_2</td><td>80</td><td>34.12781505355811</td><td>-116.14444088915262</td><td>0.0</td><td>0.0</td></tr><tr><td>Vehicle_4</td><td>24</td><td>39.895009832047805</td><td>-83.9074320711091</td><td>0.0</td><td>0.0</td></tr><tr><td>Vehicle_9</td><td>65</td><td>37.85256765858136</td><td>-80.84617535293623</td><td>0.0</td><td>0.0</td></tr><tr><td>Vehicle_1</td><td>77</td><td>36.24453436678235</td><td>-74.16645295499711</td><td>0.0</td><td>0.0</td></tr><tr><td>Vehicle_2</td><td>56</td><td>36.255018329875604</td><td>-101.1910758461971</td><td>0.0</td><td>0.0</td></tr><tr><td>Vehicle_5</td><td>110</td><td>35.463561637149915</td><td>-99.2365014042503</td><td>0.0</td><td>1.0</td></tr><tr><td>Vehicle_7</td><td>73</td><td>36.608269610671314</td><td>-92.70846513579565</td><td>0.0</td><td>0.0</td></tr><tr><td>Vehicle_8</td><td>93</td><td>38.53070978479412</td><td>-106.73274697041418</td><td>0.0</td><td>0.0</td></tr><tr><td>Vehicle_10</td><td>112</td><td>35.91136857829771</td><td>-116.10355614879289</td><td>0.0</td><td>0.0</td></tr><tr><td>Vehicle_1</td><td>115</td><td>36.363464844594105</td><td>-100.62192667719174</td><td>0.0</td><td>0.0</td></tr><tr><td>Vehicle_4</td><td>84</td><td>38.2714226006757</td><td>-81.46317602935528</td><td>0.0</td><td>0.0</td></tr><tr><td>Vehicle_6</td><td>62</td><td>34.53690093849953</td><td>-105.1531824101906</td><td>0.0</td><td>0.0</td></tr><tr><td>Vehicle_5</td><td>114</td><td>37.19734290558023</td><td>-82.63327294339412</td><td>0.0</td><td>0.0</td></tr><tr><td>Vehicle_8</td><td>96</td><td>37.57920449852972</td><td>-116.93838688347479</td><td>0.0</td><td>0.0</td></tr><tr><td>Vehicle_9</td><td>89</td><td>35.72086938573829</td><td>-99.6521696800556</td><td>0.0</td><td>0.0</td></tr><tr><td>Vehicle_3</td><td>101</td><td>37.38337813824458</td><td>-94.24149869829941</td><td>0.0</td><td>0.0</td></tr><tr><td>Vehicle_9</td><td>44</td><td>38.260645008837464</td><td>-93.24159002690564</td><td>0.0</td><td>0.0</td></tr><tr><td>Vehicle_4</td><td>57</td><td>39.55683059206052</td><td>-93.1760412632369</td><td>0.0</td><td>0.0</td></tr><tr><td>Vehicle_8</td><td>117</td><td>35.58701678763046</td><td>-77.72961302052698</td><td>0.0</td><td>0.0</td></tr><tr><td>Vehicle_3</td><td>31</td><td>35.863526276974184</td><td>-78.01800056705451</td><td>0.0</td><td>0.0</td></tr><tr><td>Vehicle_7</td><td>74</td><td>38.59363951155456</td><td>-109.9871442278806</td><td>0.0</td><td>0.0</td></tr><tr><td>Vehicle_9</td><td>118</td><td>36.919549435796135</td><td>-112.68886283269738</td><td>0.0</td><td>0.0</td></tr><tr><td>Vehicle_6</td><td>118</td><td>39.75659913767944</td><td>-84.46098525171587</td><td>0.0</td><td>0.0</td></tr><tr><td>Vehicle_9</td><td>99</td><td>35.22563137265302</td><td>-116.33330497832792</td><td>0.0</td><td>0.0</td></tr><tr><td>Vehicle_3</td><td>26</td><td>36.68016717088686</td><td>-74.5513187252688</td><td>0.0</td><td>0.0</td></tr><tr><td>Vehicle_1</td><td>45</td><td>36.7215255951473</td><td>-110.67356622863115</td><td>0.0</td><td>0.0</td></tr><tr><td>Vehicle_4</td><td>78</td><td>39.88907999962467</td><td>-101.33610756398969</td><td>0.0</td><td>1.0</td></tr><tr><td>Vehicle_8</td><td>59</td><td>35.9771429197504</td><td>-105.15933098182816</td><td>0.0</td><td>0.0</td></tr><tr><td>Vehicle_3</td><td>93</td><td>37.31515940143025</td><td>-107.71402464183069</td><td>0.0</td><td>0.0</td></tr><tr><td>Vehicle_8</td><td>115</td><td>35.3227043211586</td><td>-107.11410783532314</td><td>0.0</td><td>1.0</td></tr><tr><td>Vehicle_5</td><td>77</td><td>36.0384718215506</td><td>-112.33264990869263</td><td>0.0</td><td>0.0</td></tr><tr><td>Vehicle_6</td><td>85</td><td>37.653323290633665</td><td>-80.64594605333716</td><td>0.0</td><td>0.0</td></tr><tr><td>Vehicle_7</td><td>120</td><td>34.19250016558151</td><td>-109.43733205187029</td><td>0.0</td><td>0.0</td></tr><tr><td>Vehicle_3</td><td>109</td><td>36.1116069212607</td><td>-114.48764723584516</td><td>0.0</td><td>0.0</td></tr><tr><td>Vehicle_4</td><td>114</td><td>39.654423541121105</td><td>-78.14976758016384</td><td>0.0</td><td>1.0</td></tr><tr><td>Vehicle_8</td><td>29</td><td>35.133652820646375</td><td>-113.53041971313176</td><td>0.0</td><td>0.0</td></tr><tr><td>Vehicle_2</td><td>33</td><td>39.74630128647785</td><td>-81.36206783903523</td><td>0.0</td><td>1.0</td></tr><tr><td>Vehicle_5</td><td>93</td><td>35.127194639443886</td><td>-116.96814152781005</td><td>0.0</td><td>0.0</td></tr><tr><td>Vehicle_9</td><td>89</td><td>35.79210306696679</td><td>-111.81005741867627</td><td>0.0</td><td>0.0</td></tr><tr><td>Vehicle_3</td><td>23</td><td>38.606116904958455</td><td>-78.80286940319175</td><td>0.0</td><td>0.0</td></tr><tr><td>Vehicle_6</td><td>99</td><td>36.46099851675946</td><td>-88.25306742472699</td><td>0.0</td><td>0.0</td></tr><tr><td>Vehicle_3</td><td>110</td><td>34.37204872214522</td><td>-84.35512131799297</td><td>0.0</td><td>0.0</td></tr><tr><td>Vehicle_6</td><td>60</td><td>38.27479217692058</td><td>-93.9062302526107</td><td>0.0</td><td>0.0</td></tr><tr><td>Vehicle_4</td><td>37</td><td>34.656248285561176</td><td>-101.99691850124032</td><td>0.0</td><td>0.0</td></tr><tr><td>Vehicle_10</td><td>78</td><td>34.69498879489294</td><td>-103.00715571960697</td><td>0.0</td><td>0.0</td></tr><tr><td>Vehicle_1</td><td>120</td><td>37.76967155919497</td><td>-80.24543917407706</td><td>0.0</td><td>0.0</td></tr><tr><td>Vehicle_9</td><td>111</td><td>38.013222755092215</td><td>-99.83798018536055</td><td>0.0</td><td>1.0</td></tr><tr><td>Vehicle_4</td><td>68</td><td>37.5437448664614</td><td>-97.80716585573535</td><td>0.0</td><td>0.0</td></tr><tr><td>Vehicle_7</td><td>64</td><td>35.7241714420027</td><td>-108.89677180456133</td><td>0.0</td><td>0.0</td></tr><tr><td>Vehicle_8</td><td>47</td><td>35.802503119940546</td><td>-110.9338668911291</td><td>0.0</td><td>0.0</td></tr><tr><td>Vehicle_9</td><td>90</td><td>38.314060587761425</td><td>-88.1942756893412</td><td>0.0</td><td>1.0</td></tr><tr><td>Vehicle_10</td><td>48</td><td>35.529460882797245</td><td>-89.81619842213253</td><td>0.0</td><td>0.0</td></tr><tr><td>Vehicle_2</td><td>65</td><td>35.820777651690456</td><td>-81.38417206333631</td><td>0.0</td><td>0.0</td></tr><tr><td>Vehicle_9</td><td>61</td><td>39.921454706625084</td><td>-75.45850836943166</td><td>0.0</td><td>0.0</td></tr><tr><td>Vehicle_2</td><td>58</td><td>37.748601442039785</td><td>-86.43705271932456</td><td>0.0</td><td>1.0</td></tr><tr><td>Vehicle_5</td><td>44</td><td>35.652914805647725</td><td>-75.22047917426211</td><td>0.0</td><td>0.0</td></tr><tr><td>Vehicle_9</td><td>41</td><td>35.07997829957515</td><td>-89.21868915874144</td><td>0.0</td><td>0.0</td></tr><tr><td>Vehicle_5</td><td>29</td><td>37.050439214450115</td><td>-108.25270200292032</td><td>0.0</td><td>0.0</td></tr><tr><td>Vehicle_4</td><td>114</td><td>34.093095502144365</td><td>-102.43009019162645</td><td>0.0</td><td>0.0</td></tr><tr><td>Vehicle_7</td><td>100</td><td>39.75634546286308</td><td>-102.36476462741838</td><td>0.0</td><td>0.0</td></tr><tr><td>Vehicle_10</td><td>63</td><td>35.585179579293914</td><td>-85.93350322660085</td><td>0.0</td><td>0.0</td></tr><tr><td>Vehicle_4</td><td>48</td><td>36.82168156927651</td><td>-108.6213705035255</td><td>0.0</td><td>0.0</td></tr><tr><td>Vehicle_6</td><td>21</td><td>35.16973210773104</td><td>-83.23429812968885</td><td>0.0</td><td>0.0</td></tr><tr><td>Vehicle_7</td><td>97</td><td>39.22557714193026</td><td>-97.25306662482762</td><td>0.0</td><td>1.0</td></tr><tr><td>Vehicle_10</td><td>94</td><td>36.10047037460893</td><td>-93.76710481696028</td><td>0.0</td><td>1.0</td></tr><tr><td>Vehicle_3</td><td>119</td><td>39.137726473620305</td><td>-77.5037826180245</td><td>0.0</td><td>0.0</td></tr><tr><td>Vehicle_5</td><td>33</td><td>34.03733466295197</td><td>-111.20025726203312</td><td>0.0</td><td>0.0</td></tr><tr><td>Vehicle_6</td><td>26</td><td>35.183336200722664</td><td>-107.80118747534716</td><td>0.0</td><td>0.0</td></tr><tr><td>Vehicle_9</td><td>106</td><td>39.14243895837208</td><td>-78.90973339062927</td><td>0.0</td><td>1.0</td></tr><tr><td>Vehicle_3</td><td>107</td><td>34.38340841261724</td><td>-83.62641391022171</td><td>0.0</td><td>0.0</td></tr><tr><td>Vehicle_5</td><td>46</td><td>35.82201182248317</td><td>-114.39579157163969</td><td>0.0</td><td>0.0</td></tr><tr><td>Vehicle_3</td><td>28</td><td>37.706197931355916</td><td>-79.20485352170257</td><td>0.0</td><td>0.0</td></tr><tr><td>Vehicle_8</td><td>72</td><td>37.395578239656</td><td>-106.7760272322568</td><td>0.0</td><td>0.0</td></tr><tr><td>Vehicle_8</td><td>71</td><td>38.15073793339779</td><td>-99.66977376309359</td><td>0.0</td><td>0.0</td></tr><tr><td>Vehicle_6</td><td>90</td><td>35.35997891003029</td><td>-117.13005354377997</td><td>0.0</td><td>0.0</td></tr><tr><td>Vehicle_3</td><td>119</td><td>35.60645549049997</td><td>-106.27882741408335</td><td>0.0</td><td>0.0</td></tr><tr><td>Vehicle_5</td><td>33</td><td>38.37554775226459</td><td>-116.28391105565095</td><td>0.0</td><td>1.0</td></tr><tr><td>Vehicle_6</td><td>34</td><td>36.113084245605535</td><td>-76.84709766981393</td><td>0.0</td><td>1.0</td></tr><tr><td>Vehicle_9</td><td>45</td><td>39.2145696804272</td><td>-87.22926590205954</td><td>0.0</td><td>0.0</td></tr><tr><td>Vehicle_10</td><td>95</td><td>36.52170884106268</td><td>-77.69736385738989</td><td>0.0</td><td>0.0</td></tr><tr><td>Vehicle_5</td><td>20</td><td>39.058478919745966</td><td>-91.12736835722396</td><td>0.0</td><td>0.0</td></tr><tr><td>Vehicle_6</td><td>55</td><td>39.01233589285312</td><td>-97.99663350718609</td><td>0.0</td><td>0.0</td></tr><tr><td>Vehicle_7</td><td>35</td><td>36.23672513588106</td><td>-101.05470043632853</td><td>0.0</td><td>0.0</td></tr></tbody></table></div>"
      ]
     },
     "metadata": {
      "application/vnd.databricks.v1+output": {
       "addedWidgets": {},
       "aggData": [],
       "aggError": "",
       "aggOverflow": false,
       "aggSchema": [],
       "aggSeriesLimitReached": false,
       "aggType": "",
       "arguments": {},
       "columnCustomDisplayInfos": {},
       "data": [
        [
         "Vehicle_9",
         34,
         38.23071478990284,
         -73.82381311916097,
         0.0,
         0.0
        ],
        [
         "Vehicle_2",
         66,
         36.26349187270031,
         -77.03314129864162,
         0.0,
         0.0
        ],
        [
         "Vehicle_4",
         100,
         38.55062888574194,
         -118.37285438026655,
         0.0,
         0.0
        ],
        [
         "Vehicle_2",
         38,
         39.10920356232421,
         -79.91782381292626,
         0.0,
         0.0
        ],
        [
         "Vehicle_4",
         103,
         37.44630600905868,
         -95.60845402669736,
         0.0,
         0.0
        ],
        [
         "Vehicle_5",
         79,
         39.180912489532474,
         -91.42794442727731,
         0.0,
         0.0
        ],
        [
         "Vehicle_6",
         60,
         39.39085482236847,
         -77.37719618182187,
         0.0,
         1.0
        ],
        [
         "Vehicle_8",
         24,
         39.5665924532276,
         -93.17240022552485,
         0.0,
         0.0
        ],
        [
         "Vehicle_1",
         64,
         36.82673946815028,
         -104.44921741855654,
         0.0,
         1.0
        ],
        [
         "Vehicle_5",
         59,
         34.852504826472114,
         -103.96538290741704,
         0.0,
         0.0
        ],
        [
         "Vehicle_1",
         80,
         38.513346363560544,
         -109.61422041382191,
         0.0,
         1.0
        ],
        [
         "Vehicle_7",
         76,
         38.25760363697239,
         -88.83969088463496,
         0.0,
         0.0
        ],
        [
         "Vehicle_8",
         103,
         36.845789447575996,
         -114.81265908823863,
         0.0,
         0.0
        ],
        [
         "Vehicle_1",
         20,
         35.37789595277428,
         -84.09740194419263,
         0.0,
         0.0
        ],
        [
         "Vehicle_5",
         109,
         38.22736737720021,
         -100.1723012159385,
         0.0,
         0.0
        ],
        [
         "Vehicle_3",
         44,
         34.636056717195856,
         -115.81500686113172,
         0.0,
         0.0
        ],
        [
         "Vehicle_8",
         61,
         37.46116839762155,
         -107.45219218233811,
         0.0,
         1.0
        ],
        [
         "Vehicle_4",
         28,
         38.577523390186485,
         -100.47322384341486,
         0.0,
         1.0
        ],
        [
         "Vehicle_2",
         61,
         37.25712388830372,
         -89.2205274489441,
         0.0,
         1.0
        ],
        [
         "Vehicle_3",
         101,
         39.69307273088001,
         -110.33856468344104,
         0.0,
         0.0
        ],
        [
         "Vehicle_6",
         93,
         34.50679253273747,
         -96.71328067499081,
         0.0,
         0.0
        ],
        [
         "Vehicle_8",
         77,
         38.72439130590289,
         -108.39876764940722,
         0.0,
         0.0
        ],
        [
         "Vehicle_4",
         35,
         39.49124127092884,
         -75.18228041171773,
         0.0,
         0.0
        ],
        [
         "Vehicle_1",
         97,
         36.88073806330911,
         -89.74872981239115,
         0.0,
         0.0
        ],
        [
         "Vehicle_10",
         22,
         39.25596040788408,
         -99.82309685429043,
         0.0,
         0.0
        ],
        [
         "Vehicle_6",
         102,
         35.33857820276832,
         -93.14854603475098,
         0.0,
         0.0
        ],
        [
         "Vehicle_2",
         22,
         39.77492206884648,
         -75.58791966952009,
         0.0,
         0.0
        ],
        [
         "Vehicle_4",
         39,
         35.36140160889777,
         -88.75664188685258,
         0.0,
         0.0
        ],
        [
         "Vehicle_6",
         84,
         36.65603526581523,
         -85.59794043628185,
         0.0,
         0.0
        ],
        [
         "Vehicle_7",
         46,
         39.691521766047046,
         -89.98575636827462,
         0.0,
         0.0
        ],
        [
         "Vehicle_5",
         25,
         36.431316865349864,
         -94.09212032813241,
         0.0,
         0.0
        ],
        [
         "Vehicle_7",
         83,
         36.517211716853815,
         -107.60661113792459,
         0.0,
         0.0
        ],
        [
         "Vehicle_1",
         65,
         39.350576270563074,
         -105.83530735391702,
         0.0,
         1.0
        ],
        [
         "Vehicle_1",
         27,
         38.239659689455735,
         -108.13610346776073,
         0.0,
         0.0
        ],
        [
         "Vehicle_2",
         50,
         34.3733033974959,
         -74.22754768670188,
         0.0,
         0.0
        ],
        [
         "Vehicle_1",
         77,
         36.28981477082083,
         -116.47835668677065,
         0.0,
         0.0
        ],
        [
         "Vehicle_8",
         55,
         39.926180587374304,
         -90.92223475651325,
         0.0,
         0.0
        ],
        [
         "Vehicle_3",
         42,
         37.70441895650278,
         -95.13774212709473,
         0.0,
         1.0
        ],
        [
         "Vehicle_9",
         75,
         39.595540468150006,
         -88.5944828930269,
         0.0,
         0.0
        ],
        [
         "Vehicle_3",
         49,
         39.018911147611675,
         -109.38150440623609,
         0.0,
         1.0
        ],
        [
         "Vehicle_6",
         112,
         34.80618633649848,
         -111.3716348297312,
         0.0,
         0.0
        ],
        [
         "Vehicle_8",
         82,
         35.26039093053701,
         -97.97199163857086,
         0.0,
         0.0
        ],
        [
         "Vehicle_3",
         118,
         35.58690363676025,
         -105.44130650827402,
         0.0,
         0.0
        ],
        [
         "Vehicle_4",
         92,
         37.0090992104109,
         -93.63643670614806,
         0.0,
         0.0
        ],
        [
         "Vehicle_7",
         24,
         39.16916457654317,
         -91.56478583943115,
         0.0,
         0.0
        ],
        [
         "Vehicle_2",
         24,
         39.745106945757925,
         -81.073812159863,
         0.0,
         0.0
        ],
        [
         "Vehicle_3",
         97,
         39.623800576973785,
         -113.23011089382742,
         0.0,
         0.0
        ],
        [
         "Vehicle_5",
         47,
         35.269288252511956,
         -95.17880377056412,
         0.0,
         0.0
        ],
        [
         "Vehicle_7",
         22,
         35.5786107001638,
         -101.77902412600889,
         0.0,
         1.0
        ],
        [
         "Vehicle_2",
         42,
         34.27533163394802,
         -84.02182906224076,
         0.0,
         0.0
        ],
        [
         "Vehicle_6",
         76,
         38.242908364258525,
         -91.39683068840982,
         0.0,
         0.0
        ],
        [
         "Vehicle_1",
         80,
         39.09414940381797,
         -107.98874998093935,
         0.0,
         1.0
        ],
        [
         "Vehicle_2",
         44,
         37.56117455867155,
         -83.1473240910214,
         0.0,
         0.0
        ],
        [
         "Vehicle_2",
         77,
         34.2567975806109,
         -108.33457608600979,
         0.0,
         1.0
        ],
        [
         "Vehicle_6",
         119,
         38.378150596289174,
         -77.19829856789963,
         0.0,
         0.0
        ],
        [
         "Vehicle_7",
         97,
         34.80789204998186,
         -83.16319053334188,
         0.0,
         0.0
        ],
        [
         "Vehicle_5",
         43,
         35.65326929968153,
         -102.75311652122994,
         0.0,
         1.0
        ],
        [
         "Vehicle_8",
         118,
         37.60834797596735,
         -94.51644305673273,
         0.0,
         0.0
        ],
        [
         "Vehicle_10",
         58,
         37.53045579725564,
         -101.4564465593003,
         0.0,
         0.0
        ],
        [
         "Vehicle_3",
         61,
         39.27126949176534,
         -84.05412475998708,
         0.0,
         1.0
        ],
        [
         "Vehicle_10",
         93,
         36.811236857843795,
         -86.91400218838822,
         0.0,
         0.0
        ],
        [
         "Vehicle_2",
         113,
         39.94915918845027,
         -107.5215606206326,
         0.0,
         0.0
        ],
        [
         "Vehicle_3",
         39,
         39.736785264381,
         -89.75236859448619,
         0.0,
         0.0
        ],
        [
         "Vehicle_9",
         94,
         37.632685389725566,
         -80.04096122015235,
         0.0,
         0.0
        ],
        [
         "Vehicle_1",
         98,
         39.75631393955597,
         -74.4885639318299,
         0.0,
         0.0
        ],
        [
         "Vehicle_8",
         110,
         39.77931186818753,
         -77.31969678884197,
         0.0,
         1.0
        ],
        [
         "Vehicle_9",
         120,
         35.63835805590944,
         -115.16214332363707,
         0.0,
         0.0
        ],
        [
         "Vehicle_6",
         82,
         36.15806712040095,
         -104.03021723506329,
         0.0,
         0.0
        ],
        [
         "Vehicle_1",
         56,
         36.63438142423668,
         -80.13352474676473,
         0.0,
         0.0
        ],
        [
         "Vehicle_6",
         33,
         38.689072835516306,
         -73.8345005873818,
         0.0,
         0.0
        ],
        [
         "Vehicle_1",
         28,
         34.25672144599018,
         -90.30911351385289,
         0.0,
         0.0
        ],
        [
         "Vehicle_6",
         30,
         36.943001782767425,
         -82.29172791292241,
         0.0,
         1.0
        ],
        [
         "Vehicle_2",
         85,
         36.410669249892976,
         -85.12519853483715,
         0.0,
         0.0
        ],
        [
         "Vehicle_6",
         23,
         38.8321967593675,
         -74.33455123476756,
         0.0,
         1.0
        ],
        [
         "Vehicle_9",
         54,
         38.86320534909243,
         -110.22983400685007,
         0.0,
         0.0
        ],
        [
         "Vehicle_10",
         97,
         36.807278335730054,
         -104.43940840834709,
         0.0,
         0.0
        ],
        [
         "Vehicle_3",
         34,
         34.41755462987858,
         -118.26783406625684,
         0.0,
         0.0
        ],
        [
         "Vehicle_5",
         61,
         39.44247104427478,
         -85.30724560818436,
         0.0,
         0.0
        ],
        [
         "Vehicle_9",
         120,
         39.864189985858616,
         -97.29942243271998,
         0.0,
         0.0
        ],
        [
         "Vehicle_1",
         65,
         34.931114235851865,
         -73.92893131786884,
         0.0,
         0.0
        ],
        [
         "Vehicle_8",
         46,
         37.74402552756361,
         -110.82384759998219,
         0.0,
         0.0
        ],
        [
         "Vehicle_9",
         92,
         36.342215055972005,
         -115.75955368303053,
         0.0,
         1.0
        ],
        [
         "Vehicle_10",
         97,
         38.54336464854351,
         -104.53786241371753,
         0.0,
         0.0
        ],
        [
         "Vehicle_8",
         42,
         35.80704931229163,
         -79.72141521728474,
         0.0,
         0.0
        ],
        [
         "Vehicle_1",
         67,
         37.04398248142845,
         -82.60771978165617,
         0.0,
         0.0
        ],
        [
         "Vehicle_9",
         92,
         35.093564793825365,
         -95.24663297542754,
         0.0,
         0.0
        ],
        [
         "Vehicle_4",
         119,
         35.309681461474895,
         -87.66614072470014,
         0.0,
         0.0
        ],
        [
         "Vehicle_3",
         48,
         37.145618033744405,
         -117.25918581169421,
         0.0,
         0.0
        ],
        [
         "Vehicle_4",
         63,
         34.35916076266741,
         -117.14223240871696,
         0.0,
         1.0
        ],
        [
         "Vehicle_10",
         57,
         35.86863822387693,
         -114.96913894542381,
         0.0,
         0.0
        ],
        [
         "Vehicle_3",
         105,
         36.13994509456899,
         -111.0279290974334,
         0.0,
         1.0
        ],
        [
         "Vehicle_5",
         77,
         37.89373837187769,
         -93.59909266951031,
         0.0,
         0.0
        ],
        [
         "Vehicle_4",
         72,
         35.92466925198509,
         -92.38980588038385,
         0.0,
         0.0
        ],
        [
         "Vehicle_4",
         61,
         37.48435374214721,
         -87.62621872279715,
         0.0,
         0.0
        ],
        [
         "Vehicle_8",
         58,
         34.75023943325875,
         -111.74657410877973,
         0.0,
         1.0
        ],
        [
         "Vehicle_3",
         51,
         34.09931680949954,
         -101.29532385894794,
         0.0,
         0.0
        ],
        [
         "Vehicle_1",
         97,
         39.17238987302201,
         -95.37090682763335,
         0.0,
         0.0
        ],
        [
         "Vehicle_2",
         50,
         35.241006306294445,
         -86.859597736035,
         0.0,
         0.0
        ],
        [
         "Vehicle_7",
         86,
         34.959305337961915,
         -105.21356467931145,
         0.0,
         0.0
        ],
        [
         "Vehicle_4",
         88,
         34.063884376517144,
         -98.40935358175064,
         0.0,
         1.0
        ],
        [
         "Vehicle_2",
         93,
         37.377183572662375,
         -101.15703549973203,
         0.0,
         1.0
        ],
        [
         "Vehicle_3",
         88,
         35.34102165150959,
         -88.17151105483667,
         0.0,
         1.0
        ],
        [
         "Vehicle_4",
         106,
         38.023211935477825,
         -94.84673482057532,
         0.0,
         0.0
        ],
        [
         "Vehicle_5",
         106,
         38.63077714211999,
         -97.89375124843752,
         0.0,
         0.0
        ],
        [
         "Vehicle_3",
         120,
         39.14262039236851,
         -80.74023368397488,
         0.0,
         0.0
        ],
        [
         "Vehicle_4",
         42,
         37.17293037072726,
         -85.07768755815835,
         0.0,
         0.0
        ],
        [
         "Vehicle_4",
         57,
         38.56055383587246,
         -84.56768161213495,
         0.0,
         1.0
        ],
        [
         "Vehicle_5",
         94,
         39.20708681710087,
         -99.24362816771387,
         0.0,
         0.0
        ],
        [
         "Vehicle_6",
         29,
         36.85502787711248,
         -94.27774726170932,
         0.0,
         0.0
        ],
        [
         "Vehicle_8",
         48,
         39.52676151779358,
         -106.47952594522931,
         0.0,
         0.0
        ],
        [
         "Vehicle_4",
         101,
         35.86549801903871,
         -111.37401292618951,
         0.0,
         0.0
        ],
        [
         "Vehicle_10",
         50,
         38.86490296745109,
         -92.04512796420684,
         0.0,
         0.0
        ],
        [
         "Vehicle_2",
         78,
         35.97676044355559,
         -103.73112590560288,
         0.0,
         0.0
        ],
        [
         "Vehicle_4",
         41,
         39.07700648745004,
         -92.20299497083111,
         0.0,
         0.0
        ],
        [
         "Vehicle_5",
         29,
         37.117962151623196,
         -84.11344733846167,
         0.0,
         0.0
        ],
        [
         "Vehicle_8",
         66,
         36.37711952426386,
         -81.8989720581626,
         0.0,
         0.0
        ],
        [
         "Vehicle_2",
         80,
         34.12781505355811,
         -116.14444088915262,
         0.0,
         0.0
        ],
        [
         "Vehicle_4",
         24,
         39.895009832047805,
         -83.9074320711091,
         0.0,
         0.0
        ],
        [
         "Vehicle_9",
         65,
         37.85256765858136,
         -80.84617535293623,
         0.0,
         0.0
        ],
        [
         "Vehicle_1",
         77,
         36.24453436678235,
         -74.16645295499711,
         0.0,
         0.0
        ],
        [
         "Vehicle_2",
         56,
         36.255018329875604,
         -101.1910758461971,
         0.0,
         0.0
        ],
        [
         "Vehicle_5",
         110,
         35.463561637149915,
         -99.2365014042503,
         0.0,
         1.0
        ],
        [
         "Vehicle_7",
         73,
         36.608269610671314,
         -92.70846513579565,
         0.0,
         0.0
        ],
        [
         "Vehicle_8",
         93,
         38.53070978479412,
         -106.73274697041418,
         0.0,
         0.0
        ],
        [
         "Vehicle_10",
         112,
         35.91136857829771,
         -116.10355614879289,
         0.0,
         0.0
        ],
        [
         "Vehicle_1",
         115,
         36.363464844594105,
         -100.62192667719174,
         0.0,
         0.0
        ],
        [
         "Vehicle_4",
         84,
         38.2714226006757,
         -81.46317602935528,
         0.0,
         0.0
        ],
        [
         "Vehicle_6",
         62,
         34.53690093849953,
         -105.1531824101906,
         0.0,
         0.0
        ],
        [
         "Vehicle_5",
         114,
         37.19734290558023,
         -82.63327294339412,
         0.0,
         0.0
        ],
        [
         "Vehicle_8",
         96,
         37.57920449852972,
         -116.93838688347479,
         0.0,
         0.0
        ],
        [
         "Vehicle_9",
         89,
         35.72086938573829,
         -99.6521696800556,
         0.0,
         0.0
        ],
        [
         "Vehicle_3",
         101,
         37.38337813824458,
         -94.24149869829941,
         0.0,
         0.0
        ],
        [
         "Vehicle_9",
         44,
         38.260645008837464,
         -93.24159002690564,
         0.0,
         0.0
        ],
        [
         "Vehicle_4",
         57,
         39.55683059206052,
         -93.1760412632369,
         0.0,
         0.0
        ],
        [
         "Vehicle_8",
         117,
         35.58701678763046,
         -77.72961302052698,
         0.0,
         0.0
        ],
        [
         "Vehicle_3",
         31,
         35.863526276974184,
         -78.01800056705451,
         0.0,
         0.0
        ],
        [
         "Vehicle_7",
         74,
         38.59363951155456,
         -109.9871442278806,
         0.0,
         0.0
        ],
        [
         "Vehicle_9",
         118,
         36.919549435796135,
         -112.68886283269738,
         0.0,
         0.0
        ],
        [
         "Vehicle_6",
         118,
         39.75659913767944,
         -84.46098525171587,
         0.0,
         0.0
        ],
        [
         "Vehicle_9",
         99,
         35.22563137265302,
         -116.33330497832792,
         0.0,
         0.0
        ],
        [
         "Vehicle_3",
         26,
         36.68016717088686,
         -74.5513187252688,
         0.0,
         0.0
        ],
        [
         "Vehicle_1",
         45,
         36.7215255951473,
         -110.67356622863115,
         0.0,
         0.0
        ],
        [
         "Vehicle_4",
         78,
         39.88907999962467,
         -101.33610756398969,
         0.0,
         1.0
        ],
        [
         "Vehicle_8",
         59,
         35.9771429197504,
         -105.15933098182816,
         0.0,
         0.0
        ],
        [
         "Vehicle_3",
         93,
         37.31515940143025,
         -107.71402464183069,
         0.0,
         0.0
        ],
        [
         "Vehicle_8",
         115,
         35.3227043211586,
         -107.11410783532314,
         0.0,
         1.0
        ],
        [
         "Vehicle_5",
         77,
         36.0384718215506,
         -112.33264990869263,
         0.0,
         0.0
        ],
        [
         "Vehicle_6",
         85,
         37.653323290633665,
         -80.64594605333716,
         0.0,
         0.0
        ],
        [
         "Vehicle_7",
         120,
         34.19250016558151,
         -109.43733205187029,
         0.0,
         0.0
        ],
        [
         "Vehicle_3",
         109,
         36.1116069212607,
         -114.48764723584516,
         0.0,
         0.0
        ],
        [
         "Vehicle_4",
         114,
         39.654423541121105,
         -78.14976758016384,
         0.0,
         1.0
        ],
        [
         "Vehicle_8",
         29,
         35.133652820646375,
         -113.53041971313176,
         0.0,
         0.0
        ],
        [
         "Vehicle_2",
         33,
         39.74630128647785,
         -81.36206783903523,
         0.0,
         1.0
        ],
        [
         "Vehicle_5",
         93,
         35.127194639443886,
         -116.96814152781005,
         0.0,
         0.0
        ],
        [
         "Vehicle_9",
         89,
         35.79210306696679,
         -111.81005741867627,
         0.0,
         0.0
        ],
        [
         "Vehicle_3",
         23,
         38.606116904958455,
         -78.80286940319175,
         0.0,
         0.0
        ],
        [
         "Vehicle_6",
         99,
         36.46099851675946,
         -88.25306742472699,
         0.0,
         0.0
        ],
        [
         "Vehicle_3",
         110,
         34.37204872214522,
         -84.35512131799297,
         0.0,
         0.0
        ],
        [
         "Vehicle_6",
         60,
         38.27479217692058,
         -93.9062302526107,
         0.0,
         0.0
        ],
        [
         "Vehicle_4",
         37,
         34.656248285561176,
         -101.99691850124032,
         0.0,
         0.0
        ],
        [
         "Vehicle_10",
         78,
         34.69498879489294,
         -103.00715571960697,
         0.0,
         0.0
        ],
        [
         "Vehicle_1",
         120,
         37.76967155919497,
         -80.24543917407706,
         0.0,
         0.0
        ],
        [
         "Vehicle_9",
         111,
         38.013222755092215,
         -99.83798018536055,
         0.0,
         1.0
        ],
        [
         "Vehicle_4",
         68,
         37.5437448664614,
         -97.80716585573535,
         0.0,
         0.0
        ],
        [
         "Vehicle_7",
         64,
         35.7241714420027,
         -108.89677180456133,
         0.0,
         0.0
        ],
        [
         "Vehicle_8",
         47,
         35.802503119940546,
         -110.9338668911291,
         0.0,
         0.0
        ],
        [
         "Vehicle_9",
         90,
         38.314060587761425,
         -88.1942756893412,
         0.0,
         1.0
        ],
        [
         "Vehicle_10",
         48,
         35.529460882797245,
         -89.81619842213253,
         0.0,
         0.0
        ],
        [
         "Vehicle_2",
         65,
         35.820777651690456,
         -81.38417206333631,
         0.0,
         0.0
        ],
        [
         "Vehicle_9",
         61,
         39.921454706625084,
         -75.45850836943166,
         0.0,
         0.0
        ],
        [
         "Vehicle_2",
         58,
         37.748601442039785,
         -86.43705271932456,
         0.0,
         1.0
        ],
        [
         "Vehicle_5",
         44,
         35.652914805647725,
         -75.22047917426211,
         0.0,
         0.0
        ],
        [
         "Vehicle_9",
         41,
         35.07997829957515,
         -89.21868915874144,
         0.0,
         0.0
        ],
        [
         "Vehicle_5",
         29,
         37.050439214450115,
         -108.25270200292032,
         0.0,
         0.0
        ],
        [
         "Vehicle_4",
         114,
         34.093095502144365,
         -102.43009019162645,
         0.0,
         0.0
        ],
        [
         "Vehicle_7",
         100,
         39.75634546286308,
         -102.36476462741838,
         0.0,
         0.0
        ],
        [
         "Vehicle_10",
         63,
         35.585179579293914,
         -85.93350322660085,
         0.0,
         0.0
        ],
        [
         "Vehicle_4",
         48,
         36.82168156927651,
         -108.6213705035255,
         0.0,
         0.0
        ],
        [
         "Vehicle_6",
         21,
         35.16973210773104,
         -83.23429812968885,
         0.0,
         0.0
        ],
        [
         "Vehicle_7",
         97,
         39.22557714193026,
         -97.25306662482762,
         0.0,
         1.0
        ],
        [
         "Vehicle_10",
         94,
         36.10047037460893,
         -93.76710481696028,
         0.0,
         1.0
        ],
        [
         "Vehicle_3",
         119,
         39.137726473620305,
         -77.5037826180245,
         0.0,
         0.0
        ],
        [
         "Vehicle_5",
         33,
         34.03733466295197,
         -111.20025726203312,
         0.0,
         0.0
        ],
        [
         "Vehicle_6",
         26,
         35.183336200722664,
         -107.80118747534716,
         0.0,
         0.0
        ],
        [
         "Vehicle_9",
         106,
         39.14243895837208,
         -78.90973339062927,
         0.0,
         1.0
        ],
        [
         "Vehicle_3",
         107,
         34.38340841261724,
         -83.62641391022171,
         0.0,
         0.0
        ],
        [
         "Vehicle_5",
         46,
         35.82201182248317,
         -114.39579157163969,
         0.0,
         0.0
        ],
        [
         "Vehicle_3",
         28,
         37.706197931355916,
         -79.20485352170257,
         0.0,
         0.0
        ],
        [
         "Vehicle_8",
         72,
         37.395578239656,
         -106.7760272322568,
         0.0,
         0.0
        ],
        [
         "Vehicle_8",
         71,
         38.15073793339779,
         -99.66977376309359,
         0.0,
         0.0
        ],
        [
         "Vehicle_6",
         90,
         35.35997891003029,
         -117.13005354377997,
         0.0,
         0.0
        ],
        [
         "Vehicle_3",
         119,
         35.60645549049997,
         -106.27882741408335,
         0.0,
         0.0
        ],
        [
         "Vehicle_5",
         33,
         38.37554775226459,
         -116.28391105565095,
         0.0,
         1.0
        ],
        [
         "Vehicle_6",
         34,
         36.113084245605535,
         -76.84709766981393,
         0.0,
         1.0
        ],
        [
         "Vehicle_9",
         45,
         39.2145696804272,
         -87.22926590205954,
         0.0,
         0.0
        ],
        [
         "Vehicle_10",
         95,
         36.52170884106268,
         -77.69736385738989,
         0.0,
         0.0
        ],
        [
         "Vehicle_5",
         20,
         39.058478919745966,
         -91.12736835722396,
         0.0,
         0.0
        ],
        [
         "Vehicle_6",
         55,
         39.01233589285312,
         -97.99663350718609,
         0.0,
         0.0
        ],
        [
         "Vehicle_7",
         35,
         36.23672513588106,
         -101.05470043632853,
         0.0,
         0.0
        ]
       ],
       "datasetInfos": [],
       "dbfsResultPath": null,
       "isJsonSchema": true,
       "metadata": {},
       "overflow": false,
       "plotOptions": {
        "customPlotOptions": {},
        "displayType": "table",
        "pivotAggregation": null,
        "pivotColumns": null,
        "xColumns": null,
        "yColumns": null
       },
       "removedWidgets": [],
       "schema": [
        {
         "metadata": "{}",
         "name": "sensor_id",
         "type": "\"string\""
        },
        {
         "metadata": "{}",
         "name": "vehicle_speed_kmph",
         "type": "\"long\""
        },
        {
         "metadata": "{}",
         "name": "latitude",
         "type": "\"double\""
        },
        {
         "metadata": "{}",
         "name": "longitude",
         "type": "\"double\""
        },
        {
         "metadata": "{\"ml_attr\": {\"num_vals\": 2, \"type\": \"nominal\"}}",
         "name": "prediction",
         "type": "\"double\""
        },
        {
         "metadata": "{\"ml_attr\": {\"vals\": [\"0\", \"1\"], \"name\": \"label\", \"type\": \"nominal\"}}",
         "name": "label",
         "type": "\"double\""
        }
       ],
       "type": "table"
      }
     },
     "output_type": "display_data"
    }
   ],
   "source": [
    "predictions = model.transform(test_df)\n",
    "\n",
    "display(predictions.select(\"sensor_id\", \"vehicle_speed_kmph\", \"latitude\", \"longitude\", \"prediction\", \"label\"))"
   ]
  },
  {
   "cell_type": "code",
   "execution_count": 0,
   "metadata": {
    "application/vnd.databricks.v1+cell": {
     "cellMetadata": {
      "byteLimit": 2048000,
      "rowLimit": 10000
     },
     "inputWidgets": {},
     "nuid": "ec61d6aa-c334-4487-9e8b-bfc9e567aff6",
     "showTitle": false,
     "tableResultSettingsMap": {},
     "title": ""
    }
   },
   "outputs": [
    {
     "output_type": "stream",
     "name": "stdout",
     "output_type": "stream",
     "text": [
      "✅ Model Accuracy: 0.8090\n✅ Model F1 Score: 0.7236\n"
     ]
    }
   ],
   "source": [
    "evaluator_acc = MulticlassClassificationEvaluator(labelCol=\"label\", predictionCol=\"prediction\", metricName=\"accuracy\")\n",
    "evaluator_f1  = MulticlassClassificationEvaluator(labelCol=\"label\", predictionCol=\"prediction\", metricName=\"f1\")\n",
    "\n",
    "accuracy = evaluator_acc.evaluate(predictions)\n",
    "f1_score = evaluator_f1.evaluate(predictions)\n",
    "\n",
    "print(f\"✅ Model Accuracy: {accuracy:.4f}\")\n",
    "print(f\"✅ Model F1 Score: {f1_score:.4f}\")"
   ]
  },
  {
   "cell_type": "code",
   "execution_count": 0,
   "metadata": {
    "application/vnd.databricks.v1+cell": {
     "cellMetadata": {
      "byteLimit": 2048000,
      "rowLimit": 10000
     },
     "inputWidgets": {},
     "nuid": "26ace07e-3f18-486d-abbe-671d3b7dc9d1",
     "showTitle": false,
     "tableResultSettingsMap": {},
     "title": ""
    }
   },
   "outputs": [],
   "source": [
    "new_data = [\n",
    "    (90, 19.0760, 72.8777, 14, 4),   # Example: speed, lat, lon, hour, day\n",
    "    (35, 28.6139, 77.2090, 9, 2)\n",
    "]\n",
    "\n",
    "new_schema = [\"vehicle_speed_kmph\", \"latitude\", \"longitude\", \"hour_of_day\", \"day_of_week\"]\n",
    "new_df = spark.createDataFrame(new_data, new_schema)"
   ]
  },
  {
   "cell_type": "code",
   "execution_count": 0,
   "metadata": {
    "application/vnd.databricks.v1+cell": {
     "cellMetadata": {
      "byteLimit": 2048000,
      "rowLimit": 10000
     },
     "inputWidgets": {},
     "nuid": "2fcd1ebe-11e3-4163-b07d-2c14b9e6acff",
     "showTitle": false,
     "tableResultSettingsMap": {},
     "title": ""
    }
   },
   "outputs": [],
   "source": [
    "new_features = assembler.transform(new_df)\n",
    "new_predictions = model.stages[-1].transform(new_features)  "
   ]
  },
  {
   "cell_type": "code",
   "execution_count": 0,
   "metadata": {
    "application/vnd.databricks.v1+cell": {
     "cellMetadata": {
      "byteLimit": 2048000,
      "rowLimit": 10000
     },
     "inputWidgets": {},
     "nuid": "e14c8317-ebb1-412f-aad5-266e0bbc57d4",
     "showTitle": false,
     "tableResultSettingsMap": {},
     "title": ""
    }
   },
   "outputs": [
    {
     "output_type": "display_data",
     "data": {
      "text/html": [
       "<style scoped>\n",
       "  .table-result-container {\n",
       "    max-height: 300px;\n",
       "    overflow: auto;\n",
       "  }\n",
       "  table, th, td {\n",
       "    border: 1px solid black;\n",
       "    border-collapse: collapse;\n",
       "  }\n",
       "  th, td {\n",
       "    padding: 5px;\n",
       "  }\n",
       "  th {\n",
       "    text-align: left;\n",
       "  }\n",
       "</style><div class='table-result-container'><table class='table-result'><thead style='background-color: white'><tr><th>vehicle_speed_kmph</th><th>latitude</th><th>longitude</th><th>prediction</th></tr></thead><tbody><tr><td>90</td><td>19.076</td><td>72.8777</td><td>0.0</td></tr><tr><td>35</td><td>28.6139</td><td>77.209</td><td>0.0</td></tr></tbody></table></div>"
      ]
     },
     "metadata": {
      "application/vnd.databricks.v1+output": {
       "addedWidgets": {},
       "aggData": [],
       "aggError": "",
       "aggOverflow": false,
       "aggSchema": [],
       "aggSeriesLimitReached": false,
       "aggType": "",
       "arguments": {},
       "columnCustomDisplayInfos": {},
       "data": [
        [
         90,
         19.076,
         72.8777,
         0.0
        ],
        [
         35,
         28.6139,
         77.209,
         0.0
        ]
       ],
       "datasetInfos": [],
       "dbfsResultPath": null,
       "isJsonSchema": true,
       "metadata": {},
       "overflow": false,
       "plotOptions": {
        "customPlotOptions": {},
        "displayType": "table",
        "pivotAggregation": null,
        "pivotColumns": null,
        "xColumns": null,
        "yColumns": null
       },
       "removedWidgets": [],
       "schema": [
        {
         "metadata": "{}",
         "name": "vehicle_speed_kmph",
         "type": "\"long\""
        },
        {
         "metadata": "{}",
         "name": "latitude",
         "type": "\"double\""
        },
        {
         "metadata": "{}",
         "name": "longitude",
         "type": "\"double\""
        },
        {
         "metadata": "{\"ml_attr\": {\"num_vals\": 2, \"type\": \"nominal\"}}",
         "name": "prediction",
         "type": "\"double\""
        }
       ],
       "type": "table"
      }
     },
     "output_type": "display_data"
    },
    {
     "output_type": "stream",
     "name": "stdout",
     "output_type": "stream",
     "text": [
      "✅ Model successfully tested with new IoT sensor data.\n"
     ]
    }
   ],
   "source": [
    "display(new_predictions.select(\"vehicle_speed_kmph\", \"latitude\", \"longitude\", \"prediction\"))\n",
    "\n",
    "print(\"✅ Model successfully tested with new IoT sensor data.\")"
   ]
  }
 ],
 "metadata": {
  "application/vnd.databricks.v1+notebook": {
   "computePreferences": null,
   "dashboards": [],
   "environmentMetadata": {
    "base_environment": "",
    "environment_version": "4"
   },
   "inputWidgetPreferences": null,
   "language": "python",
   "notebookMetadata": {
    "pythonIndentUnit": 4
   },
   "notebookName": "testing",
   "widgets": {}
  },
  "language_info": {
   "name": "python"
  }
 },
 "nbformat": 4,
 "nbformat_minor": 0
}